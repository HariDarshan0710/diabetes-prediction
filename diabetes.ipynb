{
 "cells": [
  {
   "cell_type": "code",
   "execution_count": 1,
   "id": "46f94d0c",
   "metadata": {},
   "outputs": [
    {
     "name": "stdout",
     "output_type": "stream",
     "text": [
      "Accuracy of Random Forest: 93.54187689202826\n",
      "Specificity: 0.9568106312292359\n",
      "Sensitivity: 0.9023136246786633\n",
      "AUC-ROC Score: 97.71776170263647\n",
      "0    2000\n",
      "1    1303\n",
      "Name: Diabetes, dtype: int64\n",
      "[0]\n"
     ]
    }
   ],
   "source": [
    "import pandas as pd\n",
    "import numpy as np\n",
    "import matplotlib.pyplot as plt\n",
    "from sklearn.model_selection import train_test_split\n",
    "from sklearn.ensemble import RandomForestClassifier\n",
    "from sklearn.metrics import accuracy_score, roc_auc_score, confusion_matrix\n",
    "import pickle\n",
    "\n",
    "# Load the dataset from Excel\n",
    "# file_path = 'new_diab.csv'\n",
    "df = pd.read_csv('new_diab.csv')\n",
    "\n",
    "from sklearn.preprocessing import LabelEncoder\n",
    "l=LabelEncoder()\n",
    "for i in df.columns:\n",
    "    if df[i].dtype == 'object':\n",
    "        df[i]=l.fit_transform(df[i])\n",
    "\n",
    "x=df.iloc[:,:-1].values\n",
    "y=df.iloc[:,-1].values\n",
    "\n",
    "# Split the data into training and testing sets\n",
    "X_train, X_test, y_train, y_test = train_test_split(x, y, test_size=0.3, random_state=0)\n",
    "\n",
    "# Initialize the Random Forest classifier\n",
    "rf_classifier = RandomForestClassifier(n_estimators=100, random_state=42)\n",
    "\n",
    "# Train the classifier on the training data\n",
    "rf_classifier.fit(X_train, y_train)\n",
    "\n",
    "# Make predictions on the test set\n",
    "y_pred = rf_classifier.predict(X_test)\n",
    "\n",
    "# Evaluate the performance of the model on the test set\n",
    "accuracy = accuracy_score(y_test, y_pred)\n",
    "print(f\"Accuracy of Random Forest: {accuracy*100}\")\n",
    "\n",
    "# Calculate specificity and sensitivity\n",
    "conf_matrix_rf = confusion_matrix(y_test, y_pred)\n",
    "TN, FP, FN, TP = conf_matrix_rf.ravel()\n",
    "specificity = TN / (TN + FP)\n",
    "sensitivity = TP / (TP + FN)\n",
    "print(f\"Specificity: {specificity}\")\n",
    "print(f\"Sensitivity: {sensitivity}\")\n",
    "\n",
    "# AUC-ROC Score\n",
    "y_pred_probs_rf = rf_classifier.predict_proba(X_test)[:, 1]\n",
    "auc_roc = roc_auc_score(y_test, y_pred_probs_rf)\n",
    "print(f\"AUC-ROC Score: {auc_roc*100}\")\n",
    "\n",
    "# Assuming you have a DataFrame df and the column of interest is 'Diabetes'\n",
    "counts = df['Diabetes'].value_counts()\n",
    "# Display the counts\n",
    "print(counts)\n",
    "\n",
    "# Save the trained Random Forest model using pickle\n",
    "with open(\"Diabetes_model.pkl\", \"wb\") as model_file:\n",
    "    pickle.dump(rf_classifier, model_file)\n",
    "\n",
    "# Make predictions on new data points\n",
    "z = rf_classifier.predict([\n",
    "    [50,21.3,4.18,5.2,104,74,1,3.0,3.0,40.6]])\n",
    "print(z)\n"
   ]
  },
  {
   "cell_type": "code",
   "execution_count": null,
   "id": "72d94454",
   "metadata": {},
   "outputs": [],
   "source": []
  },
  {
   "cell_type": "code",
   "execution_count": null,
   "id": "04473c46",
   "metadata": {},
   "outputs": [],
   "source": []
  }
 ],
 "metadata": {
  "kernelspec": {
   "display_name": "Python 3 (ipykernel)",
   "language": "python",
   "name": "python3"
  },
  "language_info": {
   "codemirror_mode": {
    "name": "ipython",
    "version": 3
   },
   "file_extension": ".py",
   "mimetype": "text/x-python",
   "name": "python",
   "nbconvert_exporter": "python",
   "pygments_lexer": "ipython3",
   "version": "3.11.7"
  }
 },
 "nbformat": 4,
 "nbformat_minor": 5
}
